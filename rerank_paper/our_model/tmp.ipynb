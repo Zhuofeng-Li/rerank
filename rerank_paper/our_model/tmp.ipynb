{
 "cells": [
  {
   "cell_type": "code",
   "execution_count": 1,
   "metadata": {},
   "outputs": [],
   "source": [
    "import tensorflow as tf"
   ]
  },
  {
   "cell_type": "code",
   "execution_count": 5,
   "metadata": {},
   "outputs": [
    {
     "name": "stdout",
     "output_type": "stream",
     "text": [
      "Tensor(\"Const_3:0\", shape=(2, 2), dtype=int32)\n"
     ]
    }
   ],
   "source": [
    "# 创建一个 Tensor\n",
    "tensor = tf.constant([[1, 2], [3, 4]])\n",
    "\n",
    "# 使用 tf.print 打印 Tensor 的值\n",
    "tf.print(\"Tensor value:\", tensor.shape)\n",
    "print(tensor)"
   ]
  },
  {
   "cell_type": "code",
   "execution_count": 6,
   "metadata": {},
   "outputs": [],
   "source": [
    "import tensorflow as tf\n",
    "\n",
    "# 创建一个 Tensor\n",
    "tensor = tf.constant([[1, 2], [3, 4]])\n",
    "\n",
    "# 使用 tf.print 打印 Tensor 的值\n",
    "tf.print(\"Tensor value:\", tensor)\n",
    "\n",
    "# 创建一个会话并运行\n",
    "with tf.Session() as sess:\n",
    "    sess.run(tf.global_variables_initializer())\n",
    "    sess.run(tensor)  # 运行 tensor 以触发 tf.print"
   ]
  },
  {
   "cell_type": "code",
   "execution_count": 8,
   "metadata": {},
   "outputs": [
    {
     "name": "stdout",
     "output_type": "stream",
     "text": [
      "3\n",
      "4\n"
     ]
    }
   ],
   "source": [
    "a = tf.placeholder(shape=None, dtype=tf.int32)\n",
    "b = tf.placeholder(shape=None, dtype=tf.int32)\n",
    "# print(\"a is \",a,\" while b is \",b)\n",
    "c = tf.add(a, b)\n",
    "with tf.Session() as sess:\n",
    "    print(sess.run(c, feed_dict={a: 1, b: 2}))\n",
    "    print(sess.run(c, feed_dict={a: 3, b: 1}))"
   ]
  },
  {
   "cell_type": "code",
   "execution_count": null,
   "metadata": {},
   "outputs": [],
   "source": []
  }
 ],
 "metadata": {
  "kernelspec": {
   "display_name": "Python 3",
   "language": "python",
   "name": "python3"
  },
  "language_info": {
   "codemirror_mode": {
    "name": "ipython",
    "version": 3
   },
   "file_extension": ".py",
   "mimetype": "text/x-python",
   "name": "python",
   "nbconvert_exporter": "python",
   "pygments_lexer": "ipython3",
   "version": "3.6.8"
  }
 },
 "nbformat": 4,
 "nbformat_minor": 2
}
